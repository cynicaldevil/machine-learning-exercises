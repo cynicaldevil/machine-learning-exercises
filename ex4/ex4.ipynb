{
 "cells": [
  {
   "cell_type": "markdown",
   "metadata": {},
   "source": [
    "# 1. Import images"
   ]
  },
  {
   "cell_type": "code",
   "execution_count": 5,
   "metadata": {},
   "outputs": [
    {
     "name": "stdout",
     "output_type": "stream",
     "text": [
      "(5000,)\n"
     ]
    }
   ],
   "source": [
    "import scipy.io\n",
    "data = scipy.io.loadmat('data/ex3data1.mat')\n",
    "\n",
    "# A 5000x400matrix, each row representing a 20x20 pixel image\n",
    "X = data['X']\n",
    "\n",
    "# A 5000-dimensional matrix, each element representing the number shown in the corresponding image\n",
    "Y = data['y'].reshape(5000)\n",
    "\n",
    "print Y.shape"
   ]
  }
 ],
 "metadata": {
  "kernelspec": {
   "display_name": "Python 2",
   "language": "python",
   "name": "python2"
  },
  "language_info": {
   "codemirror_mode": {
    "name": "ipython",
    "version": 2
   },
   "file_extension": ".py",
   "mimetype": "text/x-python",
   "name": "python",
   "nbconvert_exporter": "python",
   "pygments_lexer": "ipython2",
   "version": "2.7.12"
  }
 },
 "nbformat": 4,
 "nbformat_minor": 2
}
