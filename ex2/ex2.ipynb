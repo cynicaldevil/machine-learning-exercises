{
 "cells": [
  {
   "cell_type": "markdown",
   "metadata": {},
   "source": [
    "# Exercise 2: Logistic Regression"
   ]
  },
  {
   "cell_type": "code",
   "execution_count": 1,
   "metadata": {
    "collapsed": true
   },
   "outputs": [],
   "source": [
    "import numpy as np\n",
    "import matplotlib.pyplot as plt"
   ]
  },
  {
   "cell_type": "markdown",
   "metadata": {},
   "source": [
    "## 1. Plotting the data"
   ]
  },
  {
   "cell_type": "code",
   "execution_count": 2,
   "metadata": {},
   "outputs": [
    {
     "data": {
      "image/png": "[encoded data removed]",
      "text/plain": [
       "<matplotlib.figure.Figure at 0x7f15f089c150>"
      ]
     },
     "metadata": {},
     "output_type": "display_data"
    }
   ],
   "source": [
    "data = np.loadtxt('data/ex2data1.txt', delimiter=',', usecols=(0, 1, 2), unpack=True)\n",
    "data = data.T\n",
    "X = data[:,0:2]\n",
    "X = np.append(np.ones((X.shape[0], 1)), X, axis=1)\n",
    "Y = data[:,2]\n",
    "pos = data[Y == 1]\n",
    "neg = data[Y == 0]\n",
    "\n",
    "plt.figure(figsize=(12,8))\n",
    "points_pos, = plt.plot(pos[:, 0], pos[:, 1], 'g+', markersize=10, label=\"Admitted\")\n",
    "points_neg, = plt.plot(neg[:, 0], neg[:, 1], 'ro', markersize=7, label=\"Not admitted\")\n",
    "plt.legend(handles=[points_pos, points_neg])\n",
    "plt.xlabel('Exam 1 score')\n",
    "plt.ylabel('Exam 2 score')\n",
    "plt.show()"
   ]
  },
  {
   "cell_type": "markdown",
   "metadata": {},
   "source": [
    "## 2. Sigmoid Function"
   ]
  },
  {
   "cell_type": "code",
   "execution_count": 3,
   "metadata": {
    "collapsed": true
   },
   "outputs": [],
   "source": [
    "def sigmoid(vec):\n",
    "    return 1/(1 + np.exp(-vec))"
   ]
  },
  {
   "cell_type": "markdown",
   "metadata": {},
   "source": [
    "## 3. Cost Function"
   ]
  },
  {
   "cell_type": "code",
   "execution_count": 4,
   "metadata": {},
   "outputs": [
    {
     "name": "stdout",
     "output_type": "stream",
     "text": [
      "Cost function output with theta=[0, 0]: 0.69314718056\n"
     ]
    }
   ],
   "source": [
    "def h(theta, vec):\n",
    "    return sigmoid(np.dot(vec, theta.T))\n",
    "\n",
    "def cost_function(theta, X, Y):\n",
    "    return float((np.sum(-np.dot(Y, np.log(h(theta, X)))) - np.dot((1-Y), np.log(1-h(theta, X))))/\n",
    "                 Y.shape[0])\n",
    "\n",
    "theta = np.zeros((1, 3))\n",
    "print \"Cost function output with theta=[0, 0]:\", cost_function(theta, X, Y)"
   ]
  },
  {
   "cell_type": "markdown",
   "metadata": {},
   "source": [
    "## 4. Gradient"
   ]
  },
  {
   "cell_type": "code",
   "execution_count": 5,
   "metadata": {
    "collapsed": true
   },
   "outputs": [],
   "source": [
    "def gradient(theta, X, Y):\n",
    "    gradient = np.dot((h(theta, X) - Y), X)/Y.shape[0]\n",
    "    return gradient"
   ]
  },
  {
   "cell_type": "markdown",
   "metadata": {},
   "source": [
    "## 5. Optimization"
   ]
  },
  {
   "cell_type": "code",
   "execution_count": 16,
   "metadata": {
    "scrolled": true
   },
   "outputs": [
    {
     "name": "stdout",
     "output_type": "stream",
     "text": [
      "Cost using optimal theta: 0.203497701589\n"
     ]
    }
   ],
   "source": [
    "import scipy.optimize as opt\n",
    "\n",
    "result = opt.fmin_tnc(func=cost_function, x0=theta, fprime=gradient, args=(X, Y))\n",
    "optimal_theta = np.array([result[0]])\n",
    "print \"Cost using optimal theta:\", cost_function(optimal_theta, X, Y)"
   ]
  },
  {
   "cell_type": "markdown",
   "metadata": {},
   "source": [
    "## 6. Prediction"
   ]
  },
  {
   "cell_type": "code",
   "execution_count": 15,
   "metadata": {},
   "outputs": [
    {
     "name": "stdout",
     "output_type": "stream",
     "text": [
      "0.776290625351\n"
     ]
    }
   ],
   "source": [
    "def predict(theta, input):\n",
    "    return h(theta, input)[0]\n",
    "\n",
    "# predict probability with which a student with Exam1 score of 45, and Exam2 score of 85 will be admitted\n",
    "print predict(optimal_theta, np.array([1, 45, 85]))"
   ]
  }
 ],
 "metadata": {
  "kernelspec": {
   "display_name": "Python 2",
   "language": "python",
   "name": "python2"
  },
  "language_info": {
   "codemirror_mode": {
    "name": "ipython",
    "version": 2
   },
   "file_extension": ".py",
   "mimetype": "text/x-python",
   "name": "python",
   "nbconvert_exporter": "python",
   "pygments_lexer": "ipython2",
   "version": "2.7.12"
  }
 },
 "nbformat": 4,
 "nbformat_minor": 2
}
