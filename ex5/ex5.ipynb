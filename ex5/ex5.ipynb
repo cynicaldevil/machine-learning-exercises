{
 "cells": [
  {
   "cell_type": "code",
   "execution_count": 1,
   "metadata": {
    "collapsed": true
   },
   "outputs": [],
   "source": [
    "import scipy.io\n",
    "import numpy as np\n",
    "import matplotlib.pyplot as plt\n",
    "data = scipy.io.loadmat('data/ex5data1.mat')"
   ]
  },
  {
   "cell_type": "markdown",
   "metadata": {},
   "source": [
    "# 1. Plot given data"
   ]
  },
  {
   "cell_type": "code",
   "execution_count": 2,
   "metadata": {},
   "outputs": [
    {
     "data": {
      "image/png": "[encoded data removed]",
      "text/plain": [
       "<matplotlib.figure.Figure at 0x7f501e4707d0>"
      ]
     },
     "metadata": {},
     "output_type": "display_data"
    }
   ],
   "source": [
    "X = data['X']\n",
    "Y = data['y']\n",
    "Xval = data['Xval']\n",
    "Yval = data['yval']\n",
    "Xtest = data['Xtest']\n",
    "Ytest = data['ytest']\n",
    "m = X.shape[0]\n",
    "\n",
    "plt.figure(figsize=(12,8))\n",
    "plt.plot(X, Y, 'rx', markersize=10)\n",
    "plt.xlabel('Change in water level (x)')\n",
    "plt.ylabel('Water flowing out of the dam (y)')\n",
    "plt.show()\n",
    "\n",
    "# Append column of ones to X after plotting\n",
    "X = np.concatenate((np.ones((m, 1)), X), axis=1)\n",
    "Y = Y.reshape(Y.size)"
   ]
  },
  {
   "cell_type": "markdown",
   "metadata": {},
   "source": [
    "# 2. Regularized linear regression cost function"
   ]
  },
  {
   "cell_type": "code",
   "execution_count": 3,
   "metadata": {},
   "outputs": [
    {
     "name": "stdout",
     "output_type": "stream",
     "text": [
      "Regularized cost at theta = [1 , 1]:  303.99319222\n"
     ]
    }
   ],
   "source": [
    "def h(theta, X):\n",
    "    return np.dot(X, theta.T)\n",
    "\n",
    "def linear_reg_cost_function(theta, X, Y, lambda_):\n",
    "    J = np.sum((h(theta, X) - Y) * (h(theta, X) - Y)) / (2*m)\n",
    "    J += np.sum(theta[1:] * theta[1:]) * lambda_ / (2*m)\n",
    "    return J\n",
    "\n",
    "theta = np.ones(2)\n",
    "print \"Regularized cost at theta = [1 , 1]: \", linear_reg_cost_function(theta, X, Y, 1)"
   ]
  },
  {
   "cell_type": "markdown",
   "metadata": {},
   "source": [
    "# 3. Regularized linear regression gradient"
   ]
  },
  {
   "cell_type": "code",
   "execution_count": 4,
   "metadata": {},
   "outputs": [
    {
     "name": "stdout",
     "output_type": "stream",
     "text": [
      "Gradient at theta = [1 , 1]:  [ -15.30301567  598.25074417]\n"
     ]
    }
   ],
   "source": [
    "def linear_reg_gradient(theta, X, Y, lambda_):\n",
    "    grad = np.dot((h(theta, X) - Y).T, X) / m\n",
    "    grad[1:] += (lambda_ / float(m)) * theta[1:]\n",
    "    return grad\n",
    "\n",
    "print \"Gradient at theta = [1 , 1]: \", linear_reg_gradient(theta, X, Y, 1)"
   ]
  }
 ],
 "metadata": {
  "kernelspec": {
   "display_name": "Python 2",
   "language": "python",
   "name": "python2"
  },
  "language_info": {
   "codemirror_mode": {
    "name": "ipython",
    "version": 2
   },
   "file_extension": ".py",
   "mimetype": "text/x-python",
   "name": "python",
   "nbconvert_exporter": "python",
   "pygments_lexer": "ipython2",
   "version": "2.7.12"
  }
 },
 "nbformat": 4,
 "nbformat_minor": 2
}
